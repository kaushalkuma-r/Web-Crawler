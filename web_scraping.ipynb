{
 "cells": [
  {
   "cell_type": "code",
   "execution_count": 1,
   "metadata": {},
   "outputs": [],
   "source": [
    "import requests "
   ]
  },
  {
   "cell_type": "code",
   "execution_count": 2,
   "metadata": {},
   "outputs": [],
   "source": [
    "link=\"https://www.reliancedigital.in/product/sony-wf-c500-true-wireless-earbuds-black-kyeg1i\""
   ]
  },
  {
   "cell_type": "code",
   "execution_count": 4,
   "metadata": {},
   "outputs": [],
   "source": [
    "import sys\n",
    "import httpx\n",
    "from bs4 import BeautifulSoup\n",
    "import re\n",
    "\n",
    "SELECTORS = [\n",
    "    '[itemprop=\"price\"]', '.price', '.product-price', '.a-price .a-offscreen', '.priceblock_ourprice', '.priceblock_dealprice', '#priceblock_ourprice', '#priceblock_dealprice', '.offer-price', '.selling-price', '.product-price', '.price-final', '.price__regular', '.price__sale', '.product__price', '.product__price--final', '.product__price--sale','.productPrice',\n",
    "]\n",
    "\n",
    "def fetch_html(url):\n",
    "    resp = httpx.get(url, headers={\"User-Agent\": \"Mozilla/5.0\"}, timeout=15, follow_redirects=True)\n",
    "    resp.raise_for_status()\n",
    "    return resp.text\n",
    "\n",
    "def show_price_statements(url):\n",
    "    html = fetch_html(url)\n",
    "    soup = BeautifulSoup(html, \"lxml\")\n",
    "    statements = set()\n",
    "    # Check all text nodes for lines with 'price' and a digit\n",
    "    for tag in soup.find_all(True):\n",
    "        text = tag.get_text(separator=' ', strip=True)\n",
    "        # Split into sentences/lines for more granular matching\n",
    "        for line in re.split(r'[\\n\\r\\.|!|?]', text):\n",
    "            line = line.strip()\n",
    "            if 'price' in line.lower() and re.search(r'\\d', line):\n",
    "                statements.add(line)\n",
    "    if statements:\n",
    "        for s in sorted(statements):\n",
    "            print(s)\n",
    "    else:\n",
    "        print(\"No price statement found.\")\n",
    "\n",
    "# if __name__ == \"__main__\":\n",
    "#     if len(sys.argv) > 1:\n",
    "#         url = sys.argv[1]\n",
    "#     else:\n",
    "#         url = input(\"Enter product page URL: \")\n",
    "#     try:\n",
    "#         show_price_statements(url)\n",
    "#     except Exception as e:\n",
    "        # print(f\"Error: {e}\") "
   ]
  },
  {
   "cell_type": "code",
   "execution_count": 6,
   "metadata": {},
   "outputs": [
    {
     "name": "stdout",
     "output_type": "stream",
     "text": [
      "Apple iPhone 16 Pro Max 256 GB, Black Titanium more sellers Sort Name Price High to Low Price Low to High Ratings\n",
      "Article ID: 494423059 You may also like Frequently Bought Together Similar Products Offers Share this product Sellers Apple iPhone 16 Pro Max 256 GB, Black Titanium more sellers Sort Name Price High to Low Price Low to High Ratings Exchange Your Phone Select your phone brand & model Select your phone's condition Perfect Condition No physical damage on body No screen damage No functional defects Minor Body Scratches Only minor scratches on body No screen damage No functional defects Screen/Body Damage Physical damage on body Screen is cracked/broken Note Please select actual condition of the old phone to be exchanged\n",
      "Buy Apple iPhone 16 Pro Max 256 GB, Black Titanium Online at Best Prices in India - JioMart\n",
      "Price Details Samsung 138 cm smart television with Pureview QLED ₹77,000\n",
      "Sellers Apple iPhone 16 Pro Max 256 GB, Black Titanium more sellers Sort Name Price High to Low Price Low to High Ratings\n",
      "productDetails = {product: \"609946183\",category: \"1,4,757,32118,32294,1,3455,33526,1,3455,33527,1,3455,33536\",manufacturer: \"1505\",brand: \"1620\", type: productType, 'price': productPrice, 'myjio': myjio, 'alter': alt_sku,\"pin\" : OfferPin};\n",
      "var productPrice = 0;\n"
     ]
    }
   ],
   "source": [
    "link=\"https://www.jiomart.com/p/electronics/apple-iphone-16-pro-max-256-gb-black-titanium/609946183\"\n",
    "show_price_statements(link)"
   ]
  },
  {
   "cell_type": "code",
   "execution_count": null,
   "metadata": {},
   "outputs": [],
   "source": []
  }
 ],
 "metadata": {
  "kernelspec": {
   "display_name": "bharatX",
   "language": "python",
   "name": "python3"
  },
  "language_info": {
   "codemirror_mode": {
    "name": "ipython",
    "version": 3
   },
   "file_extension": ".py",
   "mimetype": "text/x-python",
   "name": "python",
   "nbconvert_exporter": "python",
   "pygments_lexer": "ipython3",
   "version": "3.10.12"
  }
 },
 "nbformat": 4,
 "nbformat_minor": 2
}
